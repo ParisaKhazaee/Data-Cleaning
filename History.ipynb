{
 "cells": [
  {
   "cell_type": "code",
   "execution_count": 42,
   "metadata": {},
   "outputs": [],
   "source": [
    "import pandas as pd\n",
    "import numpy as np"
   ]
  },
  {
   "cell_type": "code",
   "execution_count": 22,
   "metadata": {},
   "outputs": [
    {
     "data": {
      "text/html": [
       "<div>\n",
       "<style scoped>\n",
       "    .dataframe tbody tr th:only-of-type {\n",
       "        vertical-align: middle;\n",
       "    }\n",
       "\n",
       "    .dataframe tbody tr th {\n",
       "        vertical-align: top;\n",
       "    }\n",
       "\n",
       "    .dataframe thead th {\n",
       "        text-align: right;\n",
       "    }\n",
       "</style>\n",
       "<table border=\"1\" class=\"dataframe\">\n",
       "  <thead>\n",
       "    <tr style=\"text-align: right;\">\n",
       "      <th></th>\n",
       "      <th>id</th>\n",
       "      <th>product_variant_id</th>\n",
       "      <th>selling_price</th>\n",
       "      <th>rrp_price</th>\n",
       "      <th>base_price</th>\n",
       "      <th>buy_price</th>\n",
       "      <th>order_limit</th>\n",
       "      <th>start_at</th>\n",
       "      <th>end_at</th>\n",
       "      <th>tags</th>\n",
       "      <th>show_in_price_history</th>\n",
       "      <th>active</th>\n",
       "      <th>created_at</th>\n",
       "      <th>product_id</th>\n",
       "      <th>marketplace_seller_id</th>\n",
       "    </tr>\n",
       "  </thead>\n",
       "  <tbody>\n",
       "    <tr>\n",
       "      <th>0</th>\n",
       "      <td>18752043</td>\n",
       "      <td>1977385</td>\n",
       "      <td>850000</td>\n",
       "      <td>850000</td>\n",
       "      <td>\\N</td>\n",
       "      <td>\\N</td>\n",
       "      <td>1</td>\n",
       "      <td>\\N</td>\n",
       "      <td>\\N</td>\n",
       "      <td>\\N</td>\n",
       "      <td>1</td>\n",
       "      <td>1</td>\n",
       "      <td>2018-11-26 18:59:52</td>\n",
       "      <td>667969</td>\n",
       "      <td>2962</td>\n",
       "    </tr>\n",
       "    <tr>\n",
       "      <th>1</th>\n",
       "      <td>18752022</td>\n",
       "      <td>1977380</td>\n",
       "      <td>12550000</td>\n",
       "      <td>12550000</td>\n",
       "      <td>\\N</td>\n",
       "      <td>\\N</td>\n",
       "      <td>2</td>\n",
       "      <td>\\N</td>\n",
       "      <td>\\N</td>\n",
       "      <td>\\N</td>\n",
       "      <td>1</td>\n",
       "      <td>0</td>\n",
       "      <td>2018-11-26 18:59:31</td>\n",
       "      <td>150144</td>\n",
       "      <td>78525</td>\n",
       "    </tr>\n",
       "    <tr>\n",
       "      <th>2</th>\n",
       "      <td>18752046</td>\n",
       "      <td>1977380</td>\n",
       "      <td>12500000</td>\n",
       "      <td>12500000</td>\n",
       "      <td>\\N</td>\n",
       "      <td>\\N</td>\n",
       "      <td>2</td>\n",
       "      <td>\\N</td>\n",
       "      <td>\\N</td>\n",
       "      <td>\\N</td>\n",
       "      <td>1</td>\n",
       "      <td>1</td>\n",
       "      <td>2018-11-26 18:59:55</td>\n",
       "      <td>150144</td>\n",
       "      <td>78525</td>\n",
       "    </tr>\n",
       "    <tr>\n",
       "      <th>3</th>\n",
       "      <td>18751982</td>\n",
       "      <td>1977374</td>\n",
       "      <td>310000</td>\n",
       "      <td>310000</td>\n",
       "      <td>\\N</td>\n",
       "      <td>\\N</td>\n",
       "      <td>2</td>\n",
       "      <td>\\N</td>\n",
       "      <td>\\N</td>\n",
       "      <td>\\N</td>\n",
       "      <td>1</td>\n",
       "      <td>0</td>\n",
       "      <td>2018-11-26 18:58:48</td>\n",
       "      <td>908541</td>\n",
       "      <td>4199</td>\n",
       "    </tr>\n",
       "    <tr>\n",
       "      <th>4</th>\n",
       "      <td>18752018</td>\n",
       "      <td>1977374</td>\n",
       "      <td>300000</td>\n",
       "      <td>300000</td>\n",
       "      <td>\\N</td>\n",
       "      <td>\\N</td>\n",
       "      <td>2</td>\n",
       "      <td>\\N</td>\n",
       "      <td>\\N</td>\n",
       "      <td>\\N</td>\n",
       "      <td>1</td>\n",
       "      <td>1</td>\n",
       "      <td>2018-11-26 18:59:28</td>\n",
       "      <td>908541</td>\n",
       "      <td>4199</td>\n",
       "    </tr>\n",
       "  </tbody>\n",
       "</table>\n",
       "</div>"
      ],
      "text/plain": [
       "         id  product_variant_id  selling_price  rrp_price base_price  \\\n",
       "0  18752043             1977385         850000     850000         \\N   \n",
       "1  18752022             1977380       12550000   12550000         \\N   \n",
       "2  18752046             1977380       12500000   12500000         \\N   \n",
       "3  18751982             1977374         310000     310000         \\N   \n",
       "4  18752018             1977374         300000     300000         \\N   \n",
       "\n",
       "  buy_price  order_limit start_at end_at tags  show_in_price_history  active  \\\n",
       "0        \\N            1       \\N     \\N   \\N                      1       1   \n",
       "1        \\N            2       \\N     \\N   \\N                      1       0   \n",
       "2        \\N            2       \\N     \\N   \\N                      1       1   \n",
       "3        \\N            2       \\N     \\N   \\N                      1       0   \n",
       "4        \\N            2       \\N     \\N   \\N                      1       1   \n",
       "\n",
       "           created_at  product_id  marketplace_seller_id  \n",
       "0 2018-11-26 18:59:52      667969                   2962  \n",
       "1 2018-11-26 18:59:31      150144                  78525  \n",
       "2 2018-11-26 18:59:55      150144                  78525  \n",
       "3 2018-11-26 18:58:48      908541                   4199  \n",
       "4 2018-11-26 18:59:28      908541                   4199  "
      ]
     },
     "execution_count": 22,
     "metadata": {},
     "output_type": "execute_result"
    }
   ],
   "source": [
    "history = pd.read_csv(\"tarikhche kharid.csv\" , parse_dates = ['created_at'])\n",
    "history.head()"
   ]
  },
  {
   "cell_type": "code",
   "execution_count": 23,
   "metadata": {},
   "outputs": [
    {
     "name": "stdout",
     "output_type": "stream",
     "text": [
      "<class 'pandas.core.frame.DataFrame'>\n",
      "RangeIndex: 2184358 entries, 0 to 2184357\n",
      "Data columns (total 15 columns):\n",
      "id                       int64\n",
      "product_variant_id       int64\n",
      "selling_price            int64\n",
      "rrp_price                int64\n",
      "base_price               object\n",
      "buy_price                object\n",
      "order_limit              int64\n",
      "start_at                 object\n",
      "end_at                   object\n",
      "tags                     object\n",
      "show_in_price_history    int64\n",
      "active                   int64\n",
      "created_at               datetime64[ns]\n",
      "product_id               int64\n",
      "marketplace_seller_id    int64\n",
      "dtypes: datetime64[ns](1), int64(9), object(5)\n",
      "memory usage: 250.0+ MB\n"
     ]
    }
   ],
   "source": [
    "history.info()"
   ]
  },
  {
   "cell_type": "markdown",
   "metadata": {},
   "source": [
    "##### As we can see, many cells of this dataset filled with '\\N'. For including them as null cells we replace them with null. Then we calculate the percentage of the null cell for each column. We see more than 95% of some rows are null. As for the huge amount of data, we can delete these columns. On the other hand, it seems that the 'tag' column can be useful for analysis. So we decide to save rows with not null tags in a separate dataset for more analysis."
   ]
  },
  {
   "cell_type": "code",
   "execution_count": 56,
   "metadata": {},
   "outputs": [],
   "source": [
    "history.replace({'\\\\N' : np.NaN} , inplace=True)"
   ]
  },
  {
   "cell_type": "code",
   "execution_count": 60,
   "metadata": {},
   "outputs": [
    {
     "data": {
      "text/plain": [
       "2177495"
      ]
     },
     "execution_count": 60,
     "metadata": {},
     "output_type": "execute_result"
    }
   ],
   "source": [
    "history['buy_price'].isnull().sum()"
   ]
  },
  {
   "cell_type": "code",
   "execution_count": 74,
   "metadata": {},
   "outputs": [
    {
     "data": {
      "text/plain": [
       "99.68581157484259"
      ]
     },
     "execution_count": 74,
     "metadata": {},
     "output_type": "execute_result"
    }
   ],
   "source": [
    "(history['buy_price'].isnull().sum()/history.shape[0])*100"
   ]
  },
  {
   "cell_type": "code",
   "execution_count": 78,
   "metadata": {},
   "outputs": [],
   "source": [
    "history.drop(columns=['buy_price'] , inplace=True)"
   ]
  },
  {
   "cell_type": "code",
   "execution_count": 79,
   "metadata": {},
   "outputs": [
    {
     "data": {
      "text/plain": [
       "2090066"
      ]
     },
     "execution_count": 79,
     "metadata": {},
     "output_type": "execute_result"
    }
   ],
   "source": [
    "history['base_price'].isnull().sum()"
   ]
  },
  {
   "cell_type": "code",
   "execution_count": 80,
   "metadata": {},
   "outputs": [
    {
     "data": {
      "text/plain": [
       "95.68330832217063"
      ]
     },
     "execution_count": 80,
     "metadata": {},
     "output_type": "execute_result"
    }
   ],
   "source": [
    "(history['base_price'].isnull().sum()/history.shape[0])*100"
   ]
  },
  {
   "cell_type": "code",
   "execution_count": 62,
   "metadata": {},
   "outputs": [
    {
     "data": {
      "text/plain": [
       "2127157"
      ]
     },
     "execution_count": 62,
     "metadata": {},
     "output_type": "execute_result"
    }
   ],
   "source": [
    "history['start_at'].isnull().sum()"
   ]
  },
  {
   "cell_type": "code",
   "execution_count": 75,
   "metadata": {},
   "outputs": [
    {
     "data": {
      "text/plain": [
       "97.3813358433004"
      ]
     },
     "execution_count": 75,
     "metadata": {},
     "output_type": "execute_result"
    }
   ],
   "source": [
    "(history['start_at'].isnull().sum()/history.shape[0])*100"
   ]
  },
  {
   "cell_type": "code",
   "execution_count": 63,
   "metadata": {},
   "outputs": [
    {
     "data": {
      "text/plain": [
       "2127157"
      ]
     },
     "execution_count": 63,
     "metadata": {},
     "output_type": "execute_result"
    }
   ],
   "source": [
    "history['end_at'].isnull().sum()"
   ]
  },
  {
   "cell_type": "code",
   "execution_count": 76,
   "metadata": {},
   "outputs": [
    {
     "data": {
      "text/plain": [
       "97.3813358433004"
      ]
     },
     "execution_count": 76,
     "metadata": {},
     "output_type": "execute_result"
    }
   ],
   "source": [
    "(history['end_at'].isnull().sum()/history.shape[0])*100"
   ]
  },
  {
   "cell_type": "code",
   "execution_count": 64,
   "metadata": {},
   "outputs": [
    {
     "data": {
      "text/plain": [
       "2126456"
      ]
     },
     "execution_count": 64,
     "metadata": {},
     "output_type": "execute_result"
    }
   ],
   "source": [
    "history['tags'].isnull().sum()"
   ]
  },
  {
   "cell_type": "code",
   "execution_count": 77,
   "metadata": {},
   "outputs": [
    {
     "data": {
      "text/plain": [
       "97.34924403417389"
      ]
     },
     "execution_count": 77,
     "metadata": {},
     "output_type": "execute_result"
    }
   ],
   "source": [
    "(history['tags'].isnull().sum()/history.shape[0])*100"
   ]
  },
  {
   "cell_type": "code",
   "execution_count": 81,
   "metadata": {},
   "outputs": [
    {
     "data": {
      "text/plain": [
       "selling_and_sales    43846\n",
       "incredible_offer     11089\n",
       "sponsored_offer       2967\n",
       "Name: tags, dtype: int64"
      ]
     },
     "execution_count": 81,
     "metadata": {},
     "output_type": "execute_result"
    }
   ],
   "source": [
    "history['tags'].value_counts()"
   ]
  },
  {
   "cell_type": "code",
   "execution_count": 82,
   "metadata": {},
   "outputs": [],
   "source": [
    "history.drop(columns=['base_price' , 'start_at' , 'end_at'] , inplace=True)"
   ]
  },
  {
   "cell_type": "code",
   "execution_count": 86,
   "metadata": {},
   "outputs": [
    {
     "data": {
      "text/plain": [
       "(57902, 11)"
      ]
     },
     "execution_count": 86,
     "metadata": {},
     "output_type": "execute_result"
    }
   ],
   "source": [
    "history_with_tags = history.dropna(subset=['tags'])\n",
    "history_with_tags.head()\n",
    "history_with_tags.shape"
   ]
  },
  {
   "cell_type": "code",
   "execution_count": 88,
   "metadata": {},
   "outputs": [],
   "source": [
    "history.drop(columns=['tags'] , inplace=True)"
   ]
  },
  {
   "cell_type": "code",
   "execution_count": 98,
   "metadata": {},
   "outputs": [
    {
     "data": {
      "text/plain": [
       "id                       0\n",
       "product_variant_id       0\n",
       "selling_price            0\n",
       "rrp_price                0\n",
       "order_limit              0\n",
       "show_in_price_history    0\n",
       "active                   0\n",
       "created_at               0\n",
       "product_id               0\n",
       "marketplace_seller_id    0\n",
       "dtype: int64"
      ]
     },
     "execution_count": 98,
     "metadata": {},
     "output_type": "execute_result"
    }
   ],
   "source": [
    "history.isnull().sum()"
   ]
  },
  {
   "cell_type": "code",
   "execution_count": 99,
   "metadata": {},
   "outputs": [],
   "source": [
    "history.to_csv('Cleand History.csv')"
   ]
  },
  {
   "cell_type": "code",
   "execution_count": 100,
   "metadata": {},
   "outputs": [],
   "source": [
    "history_with_tags.to_csv('Cleaned History with Tags.csv')"
   ]
  },
  {
   "cell_type": "code",
   "execution_count": null,
   "metadata": {},
   "outputs": [],
   "source": []
  }
 ],
 "metadata": {
  "kernelspec": {
   "display_name": "Python 3",
   "language": "python",
   "name": "python3"
  },
  "language_info": {
   "codemirror_mode": {
    "name": "ipython",
    "version": 3
   },
   "file_extension": ".py",
   "mimetype": "text/x-python",
   "name": "python",
   "nbconvert_exporter": "python",
   "pygments_lexer": "ipython3",
   "version": "3.6.4"
  }
 },
 "nbformat": 4,
 "nbformat_minor": 2
}

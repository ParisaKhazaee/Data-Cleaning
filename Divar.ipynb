{
 "cells": [
  {
   "cell_type": "code",
   "execution_count": 1,
   "metadata": {},
   "outputs": [],
   "source": [
    "import pandas as pd"
   ]
  },
  {
   "cell_type": "code",
   "execution_count": 2,
   "metadata": {},
   "outputs": [
    {
     "data": {
      "text/html": [
       "<div>\n",
       "<style scoped>\n",
       "    .dataframe tbody tr th:only-of-type {\n",
       "        vertical-align: middle;\n",
       "    }\n",
       "\n",
       "    .dataframe tbody tr th {\n",
       "        vertical-align: top;\n",
       "    }\n",
       "\n",
       "    .dataframe thead th {\n",
       "        text-align: right;\n",
       "    }\n",
       "</style>\n",
       "<table border=\"1\" class=\"dataframe\">\n",
       "  <thead>\n",
       "    <tr style=\"text-align: right;\">\n",
       "      <th></th>\n",
       "      <th>archive_by_user</th>\n",
       "      <th>brand</th>\n",
       "      <th>cat1</th>\n",
       "      <th>cat2</th>\n",
       "      <th>cat3</th>\n",
       "      <th>city</th>\n",
       "      <th>created_at</th>\n",
       "      <th>desc</th>\n",
       "      <th>id</th>\n",
       "      <th>image_count</th>\n",
       "      <th>mileage</th>\n",
       "      <th>platform</th>\n",
       "      <th>price</th>\n",
       "      <th>title</th>\n",
       "      <th>type</th>\n",
       "      <th>year</th>\n",
       "    </tr>\n",
       "  </thead>\n",
       "  <tbody>\n",
       "    <tr>\n",
       "      <th>0</th>\n",
       "      <td>False</td>\n",
       "      <td>NaN</td>\n",
       "      <td>for-the-home</td>\n",
       "      <td>furniture-and-home-decore</td>\n",
       "      <td>sofa-armchair</td>\n",
       "      <td>Tehran</td>\n",
       "      <td>Tuesday 07PM</td>\n",
       "      <td>کلاسیک و شیک و استثنایی\\nچرم مالزی\\nچوب راش\\nف...</td>\n",
       "      <td>54761638662241</td>\n",
       "      <td>5</td>\n",
       "      <td>NaN</td>\n",
       "      <td>mobile</td>\n",
       "      <td>3850000</td>\n",
       "      <td>ست مبلمان و نهارخوری ٩ نفره</td>\n",
       "      <td>NaN</td>\n",
       "      <td>NaN</td>\n",
       "    </tr>\n",
       "    <tr>\n",
       "      <th>1</th>\n",
       "      <td>False</td>\n",
       "      <td>NaN</td>\n",
       "      <td>for-the-home</td>\n",
       "      <td>furniture-and-home-decore</td>\n",
       "      <td>antiques-and-art</td>\n",
       "      <td>Mashhad</td>\n",
       "      <td>Tuesday 07PM</td>\n",
       "      <td>سلام,یک عدد گلدون نخل سه طبقه ی سالم دارم با پ...</td>\n",
       "      <td>42727631379133</td>\n",
       "      <td>1</td>\n",
       "      <td>NaN</td>\n",
       "      <td>mobile</td>\n",
       "      <td>30000</td>\n",
       "      <td>گلدون مصنوعی نخل</td>\n",
       "      <td>NaN</td>\n",
       "      <td>NaN</td>\n",
       "    </tr>\n",
       "    <tr>\n",
       "      <th>2</th>\n",
       "      <td>False</td>\n",
       "      <td>NaN</td>\n",
       "      <td>vehicles</td>\n",
       "      <td>cars</td>\n",
       "      <td>heavy</td>\n",
       "      <td>Mashhad</td>\n",
       "      <td>Tuesday 07PM</td>\n",
       "      <td>سریال 43j$NUMبدون شکستگی سه حلقه لاستیک نو یک ...</td>\n",
       "      <td>63194439667302</td>\n",
       "      <td>4</td>\n",
       "      <td>NaN</td>\n",
       "      <td>mobile</td>\n",
       "      <td>-1</td>\n",
       "      <td>لودر کاتر پیلار 950</td>\n",
       "      <td>NaN</td>\n",
       "      <td>NaN</td>\n",
       "    </tr>\n",
       "    <tr>\n",
       "      <th>3</th>\n",
       "      <td>False</td>\n",
       "      <td>NaN</td>\n",
       "      <td>for-the-home</td>\n",
       "      <td>furniture-and-home-decore</td>\n",
       "      <td>sofa-armchair</td>\n",
       "      <td>Tehran</td>\n",
       "      <td>Tuesday 07PM</td>\n",
       "      <td>مبل راحتی هفت نفره شامل سه نفره یک عدد دونفره ...</td>\n",
       "      <td>19133025491169</td>\n",
       "      <td>4</td>\n",
       "      <td>NaN</td>\n",
       "      <td>mobile</td>\n",
       "      <td>600000</td>\n",
       "      <td>مبل راحتی هفت نفره بامیز جلو مبلی</td>\n",
       "      <td>NaN</td>\n",
       "      <td>NaN</td>\n",
       "    </tr>\n",
       "    <tr>\n",
       "      <th>4</th>\n",
       "      <td>False</td>\n",
       "      <td>NaN</td>\n",
       "      <td>personal</td>\n",
       "      <td>baby-and-toys</td>\n",
       "      <td>personal-toys</td>\n",
       "      <td>Karaj</td>\n",
       "      <td>Tuesday 08PM</td>\n",
       "      <td>شارژی کنترلی سویچ حمل تا 35 کیلو صندلی برای دو...</td>\n",
       "      <td>58998998335444</td>\n",
       "      <td>2</td>\n",
       "      <td>NaN</td>\n",
       "      <td>mobile</td>\n",
       "      <td>450000</td>\n",
       "      <td>ماشین شارژی</td>\n",
       "      <td>NaN</td>\n",
       "      <td>NaN</td>\n",
       "    </tr>\n",
       "  </tbody>\n",
       "</table>\n",
       "</div>"
      ],
      "text/plain": [
       "   archive_by_user brand          cat1                       cat2  \\\n",
       "0            False   NaN  for-the-home  furniture-and-home-decore   \n",
       "1            False   NaN  for-the-home  furniture-and-home-decore   \n",
       "2            False   NaN      vehicles                       cars   \n",
       "3            False   NaN  for-the-home  furniture-and-home-decore   \n",
       "4            False   NaN      personal              baby-and-toys   \n",
       "\n",
       "               cat3     city    created_at  \\\n",
       "0     sofa-armchair   Tehran  Tuesday 07PM   \n",
       "1  antiques-and-art  Mashhad  Tuesday 07PM   \n",
       "2             heavy  Mashhad  Tuesday 07PM   \n",
       "3     sofa-armchair   Tehran  Tuesday 07PM   \n",
       "4     personal-toys    Karaj  Tuesday 08PM   \n",
       "\n",
       "                                                desc              id  \\\n",
       "0  کلاسیک و شیک و استثنایی\\nچرم مالزی\\nچوب راش\\nف...  54761638662241   \n",
       "1  سلام,یک عدد گلدون نخل سه طبقه ی سالم دارم با پ...  42727631379133   \n",
       "2  سریال 43j$NUMبدون شکستگی سه حلقه لاستیک نو یک ...  63194439667302   \n",
       "3  مبل راحتی هفت نفره شامل سه نفره یک عدد دونفره ...  19133025491169   \n",
       "4  شارژی کنترلی سویچ حمل تا 35 کیلو صندلی برای دو...  58998998335444   \n",
       "\n",
       "   image_count  mileage platform    price                              title  \\\n",
       "0            5      NaN   mobile  3850000        ست مبلمان و نهارخوری ٩ نفره   \n",
       "1            1      NaN   mobile    30000                   گلدون مصنوعی نخل   \n",
       "2            4      NaN   mobile       -1                لودر کاتر پیلار 950   \n",
       "3            4      NaN   mobile   600000  مبل راحتی هفت نفره بامیز جلو مبلی   \n",
       "4            2      NaN   mobile   450000                        ماشین شارژی   \n",
       "\n",
       "  type year  \n",
       "0  NaN  NaN  \n",
       "1  NaN  NaN  \n",
       "2  NaN  NaN  \n",
       "3  NaN  NaN  \n",
       "4  NaN  NaN  "
      ]
     },
     "execution_count": 2,
     "metadata": {},
     "output_type": "execute_result"
    }
   ],
   "source": [
    "divar = pd.read_csv('divar_posts_dataset.csv' , index_col=0)\n",
    "divar.head()"
   ]
  },
  {
   "cell_type": "code",
   "execution_count": 5,
   "metadata": {},
   "outputs": [
    {
     "data": {
      "text/plain": [
       "(947635, 16)"
      ]
     },
     "execution_count": 5,
     "metadata": {},
     "output_type": "execute_result"
    }
   ],
   "source": [
    "divar.shape"
   ]
  },
  {
   "cell_type": "code",
   "execution_count": 6,
   "metadata": {},
   "outputs": [
    {
     "name": "stdout",
     "output_type": "stream",
     "text": [
      "<class 'pandas.core.frame.DataFrame'>\n",
      "Int64Index: 947635 entries, 0 to 947634\n",
      "Data columns (total 16 columns):\n",
      "archive_by_user    947635 non-null bool\n",
      "brand              190892 non-null object\n",
      "cat1               947635 non-null object\n",
      "cat2               945877 non-null object\n",
      "cat3               775301 non-null object\n",
      "city               947635 non-null object\n",
      "created_at         947635 non-null object\n",
      "desc               947635 non-null object\n",
      "id                 947635 non-null int64\n",
      "image_count        947635 non-null int64\n",
      "mileage            120451 non-null float64\n",
      "platform           947635 non-null object\n",
      "price              947635 non-null int64\n",
      "title              947635 non-null object\n",
      "type               98529 non-null object\n",
      "year               120451 non-null object\n",
      "dtypes: bool(1), float64(1), int64(3), object(11)\n",
      "memory usage: 116.6+ MB\n"
     ]
    }
   ],
   "source": [
    "divar.info()"
   ]
  },
  {
   "cell_type": "markdown",
   "metadata": {},
   "source": [
    "###### Start Cleaning from first column."
   ]
  },
  {
   "cell_type": "markdown",
   "metadata": {},
   "source": [
    "As we can see in the above cell 'archive_by_user' column doesn't have null values. Now we check this column for corrupted or incorrect values."
   ]
  },
  {
   "cell_type": "code",
   "execution_count": 25,
   "metadata": {},
   "outputs": [
    {
     "data": {
      "text/plain": [
       "True     490796\n",
       "False    455081\n",
       "Name: archive_by_user, dtype: int64"
      ]
     },
     "execution_count": 25,
     "metadata": {},
     "output_type": "execute_result"
    }
   ],
   "source": [
    "divar['archive_by_user'].value_counts()"
   ]
  },
  {
   "cell_type": "markdown",
   "metadata": {},
   "source": [
    "\n",
    "We see that this column doesn't have any incorrect value. In the next step, we convert bool to int for future analysis and classification or clustering."
   ]
  },
  {
   "cell_type": "code",
   "execution_count": 3,
   "metadata": {},
   "outputs": [
    {
     "data": {
      "text/plain": [
       "1    491483\n",
       "0    456152\n",
       "Name: archive_by_user, dtype: int64"
      ]
     },
     "execution_count": 3,
     "metadata": {},
     "output_type": "execute_result"
    }
   ],
   "source": [
    "divar['archive_by_user'] = divar['archive_by_user'].map({True : 1 , False : 0})\n",
    "divar['archive_by_user'].value_counts()"
   ]
  },
  {
   "cell_type": "markdown",
   "metadata": {},
   "source": [
    "##### Brand column\n",
    "\n",
    "We know that the brand column has many null values. If we want to delete these rows we lose very much of our data. So we should fill these null values with something. Let's look closer at the values of this column for deciding how to fill null rows."
   ]
  },
  {
   "cell_type": "code",
   "execution_count": 74,
   "metadata": {},
   "outputs": [
    {
     "data": {
      "text/plain": [
       "0                      NaN\n",
       "1                      NaN\n",
       "2                      NaN\n",
       "3                      NaN\n",
       "4                      NaN\n",
       "5                      NaN\n",
       "6                      NaN\n",
       "7                      NaN\n",
       "8                     سایر\n",
       "9                      NaN\n",
       "10                     NaN\n",
       "11            Nokia::نوکیا\n",
       "12                     NaN\n",
       "13                     NaN\n",
       "14                     NaN\n",
       "15                     NaN\n",
       "16                     NaN\n",
       "17                     NaN\n",
       "18    پژو ۴۰۵::Peugeot 405\n",
       "19              Apple::اپل\n",
       "Name: brand, dtype: object"
      ]
     },
     "execution_count": 74,
     "metadata": {},
     "output_type": "execute_result"
    }
   ],
   "source": [
    "divar['brand'].head(20)"
   ]
  },
  {
   "cell_type": "markdown",
   "metadata": {},
   "source": [
    "The not null rows in this column contains english and persian word. We want split this values and create column for each of them. Also we fill 'NAN' with 'UNKNOWN'. Because this dataset consist of multiple goods we can't fill null rows with specific item."
   ]
  },
  {
   "cell_type": "code",
   "execution_count": 4,
   "metadata": {},
   "outputs": [],
   "source": [
    "split_brand = divar['brand'].str.split('::')"
   ]
  },
  {
   "cell_type": "code",
   "execution_count": 5,
   "metadata": {},
   "outputs": [],
   "source": [
    "import re\n",
    "brand_en = []\n",
    "brand_fa = []\n",
    "for item in split_brand:\n",
    "    if type(item) == list:     #for not null rows do:\n",
    "        item[0] = item[0].replace(\"\\u200c\" , \"\")\n",
    "        item[0] = item[0].replace(\"\\u200d\" , \"\")\n",
    "        if len(item)>1:        #for rows with brand name in english and persian\n",
    "            item[1] = item[1].replace(\"\\u200c\" , \"\")\n",
    "            item[1] = item[1].replace(\"\\u200d\" , \"\")\n",
    "            if re.match(r'[a-zA-Z0-9]' , item[0]): #check if word is english or not\n",
    "                brand_en.append(item[0])\n",
    "                brand_fa.append(item[1])\n",
    "            else:\n",
    "                brand_en.append(item[1])\n",
    "                brand_fa.append(item[0])\n",
    "        else:\n",
    "            brand_fa.append(item[0])\n",
    "            brand_en.append('other')\n",
    "    else:                              #fill null values with UNKNOWN\n",
    "        brand_en.append('UNKNOWN')\n",
    "        brand_fa.append('UNKNOWN')"
   ]
  },
  {
   "cell_type": "markdown",
   "metadata": {},
   "source": [
    "Add two columns to the dataframe and delete the brand column."
   ]
  },
  {
   "cell_type": "code",
   "execution_count": 6,
   "metadata": {},
   "outputs": [],
   "source": [
    "divar['brand_fa'] = brand_fa\n",
    "divar['brand_en'] = brand_en\n",
    "divar.drop('brand',axis=1,inplace=True)"
   ]
  },
  {
   "cell_type": "markdown",
   "metadata": {},
   "source": [
    "##### Cat2 column\n",
    "\n",
    "First, we check what percentage of this column is null. If it's small we can delete that rows."
   ]
  },
  {
   "cell_type": "code",
   "execution_count": 7,
   "metadata": {},
   "outputs": [
    {
     "data": {
      "text/plain": [
       "1758"
      ]
     },
     "execution_count": 7,
     "metadata": {},
     "output_type": "execute_result"
    }
   ],
   "source": [
    "divar['cat2'].isnull().sum()"
   ]
  },
  {
   "cell_type": "code",
   "execution_count": 8,
   "metadata": {},
   "outputs": [
    {
     "data": {
      "text/plain": [
       "0.18551446495749946"
      ]
     },
     "execution_count": 8,
     "metadata": {},
     "output_type": "execute_result"
    }
   ],
   "source": [
    "(divar['cat2'].isnull().sum()/divar.shape[0])*100"
   ]
  },
  {
   "cell_type": "code",
   "execution_count": 9,
   "metadata": {},
   "outputs": [],
   "source": [
    "divar.dropna(subset=['cat2'] , inplace=True)"
   ]
  },
  {
   "cell_type": "code",
   "execution_count": 10,
   "metadata": {},
   "outputs": [
    {
     "data": {
      "text/plain": [
       "(945877, 17)"
      ]
     },
     "execution_count": 10,
     "metadata": {},
     "output_type": "execute_result"
    }
   ],
   "source": [
    "divar.shape"
   ]
  },
  {
   "cell_type": "markdown",
   "metadata": {},
   "source": [
    "##### Cat3 column\n",
    "\n",
    "Because the number of rows that contain null values for the 'cat3' column is great, we don't delete them. And for this column, we fill null rows with 'UNKNOWN' value."
   ]
  },
  {
   "cell_type": "code",
   "execution_count": 10,
   "metadata": {},
   "outputs": [
    {
     "data": {
      "text/plain": [
       "18.033634394323997"
      ]
     },
     "execution_count": 10,
     "metadata": {},
     "output_type": "execute_result"
    }
   ],
   "source": [
    "(divar['cat3'].isnull().sum()/divar.shape[0])*100"
   ]
  },
  {
   "cell_type": "code",
   "execution_count": 11,
   "metadata": {},
   "outputs": [],
   "source": [
    "divar['cat3'].fillna('UNKNOWN' , inplace = True)"
   ]
  },
  {
   "cell_type": "markdown",
   "metadata": {},
   "source": [
    "##### 'city' column \n",
    "\n",
    "This column doesn't have null values. As we can see it's values are from a few city names. Thus convert the type of it to category. "
   ]
  },
  {
   "cell_type": "code",
   "execution_count": 52,
   "metadata": {},
   "outputs": [
    {
     "data": {
      "text/plain": [
       "Tehran        441527\n",
       "Mashhad       138532\n",
       "Shiraz         83970\n",
       "Karaj          83736\n",
       "Isfahan        61803\n",
       "Ahvaz          47163\n",
       "Tabriz         34014\n",
       "Qom            32002\n",
       "Kermanshah     23130\n",
       "Name: city, dtype: int64"
      ]
     },
     "execution_count": 52,
     "metadata": {},
     "output_type": "execute_result"
    }
   ],
   "source": [
    "divar['city'].value_counts()"
   ]
  },
  {
   "cell_type": "code",
   "execution_count": 53,
   "metadata": {},
   "outputs": [],
   "source": [
    "divar['city'] = divar['city'].astype('category')"
   ]
  },
  {
   "cell_type": "markdown",
   "metadata": {},
   "source": [
    "##### Create_at column\n",
    "\n",
    "The type of this column is date but it's format not suitable for analysis. We must convert it to date format."
   ]
  },
  {
   "cell_type": "code",
   "execution_count": 12,
   "metadata": {},
   "outputs": [],
   "source": [
    "divar['created_at'] = pd.to_datetime(divar['created_at'] , format = '%A %I%p')"
   ]
  },
  {
   "cell_type": "markdown",
   "metadata": {},
   "source": [
    "Because the 'created_at' column doesn't have a date, we omit the date part and keep time for this column."
   ]
  },
  {
   "cell_type": "code",
   "execution_count": 13,
   "metadata": {},
   "outputs": [],
   "source": [
    "import datetime as dt\n",
    "divar['created_at'] = divar['created_at'].dt.time"
   ]
  },
  {
   "cell_type": "markdown",
   "metadata": {},
   "source": [
    "##### 'desc' and 'id' column \n",
    "\n",
    "We don't need these columns for analysis. So we delete these columns from datafram. "
   ]
  },
  {
   "cell_type": "code",
   "execution_count": 14,
   "metadata": {},
   "outputs": [],
   "source": [
    "divar.drop(columns = ['desc' , 'id'] , inplace = True)"
   ]
  },
  {
   "cell_type": "markdown",
   "metadata": {},
   "source": [
    "##### 'mileage' Column\n",
    "\n",
    "This column is used for vehicle items and for other items it is null. We need this column so we can't delete it. On the other hand, the null value of this column is too much and we can't delete these rows. So we should fill these null cells. Whereas the data type of this column is float, it's better to fill it with numeric. The minimum value of this column is '0' so we can use a negative number for filling null values."
   ]
  },
  {
   "cell_type": "code",
   "execution_count": 15,
   "metadata": {},
   "outputs": [
    {
     "data": {
      "text/html": [
       "<div>\n",
       "<style scoped>\n",
       "    .dataframe tbody tr th:only-of-type {\n",
       "        vertical-align: middle;\n",
       "    }\n",
       "\n",
       "    .dataframe tbody tr th {\n",
       "        vertical-align: top;\n",
       "    }\n",
       "\n",
       "    .dataframe thead th {\n",
       "        text-align: right;\n",
       "    }\n",
       "</style>\n",
       "<table border=\"1\" class=\"dataframe\">\n",
       "  <thead>\n",
       "    <tr style=\"text-align: right;\">\n",
       "      <th></th>\n",
       "      <th>archive_by_user</th>\n",
       "      <th>image_count</th>\n",
       "      <th>mileage</th>\n",
       "      <th>price</th>\n",
       "    </tr>\n",
       "  </thead>\n",
       "  <tbody>\n",
       "    <tr>\n",
       "      <th>count</th>\n",
       "      <td>945877.000000</td>\n",
       "      <td>945877.000000</td>\n",
       "      <td>120451.000000</td>\n",
       "      <td>9.458770e+05</td>\n",
       "    </tr>\n",
       "    <tr>\n",
       "      <th>mean</th>\n",
       "      <td>0.518879</td>\n",
       "      <td>1.786155</td>\n",
       "      <td>100862.291944</td>\n",
       "      <td>3.404522e+06</td>\n",
       "    </tr>\n",
       "    <tr>\n",
       "      <th>std</th>\n",
       "      <td>0.499644</td>\n",
       "      <td>1.127736</td>\n",
       "      <td>98368.470916</td>\n",
       "      <td>1.372942e+07</td>\n",
       "    </tr>\n",
       "    <tr>\n",
       "      <th>min</th>\n",
       "      <td>0.000000</td>\n",
       "      <td>0.000000</td>\n",
       "      <td>0.000000</td>\n",
       "      <td>-1.000000e+00</td>\n",
       "    </tr>\n",
       "    <tr>\n",
       "      <th>25%</th>\n",
       "      <td>0.000000</td>\n",
       "      <td>1.000000</td>\n",
       "      <td>19000.000000</td>\n",
       "      <td>3.000000e+04</td>\n",
       "    </tr>\n",
       "    <tr>\n",
       "      <th>50%</th>\n",
       "      <td>1.000000</td>\n",
       "      <td>2.000000</td>\n",
       "      <td>75000.000000</td>\n",
       "      <td>1.500000e+05</td>\n",
       "    </tr>\n",
       "    <tr>\n",
       "      <th>75%</th>\n",
       "      <td>1.000000</td>\n",
       "      <td>2.000000</td>\n",
       "      <td>160000.000000</td>\n",
       "      <td>6.000000e+05</td>\n",
       "    </tr>\n",
       "    <tr>\n",
       "      <th>max</th>\n",
       "      <td>1.000000</td>\n",
       "      <td>16.000000</td>\n",
       "      <td>500000.000000</td>\n",
       "      <td>4.000000e+08</td>\n",
       "    </tr>\n",
       "  </tbody>\n",
       "</table>\n",
       "</div>"
      ],
      "text/plain": [
       "       archive_by_user    image_count        mileage         price\n",
       "count    945877.000000  945877.000000  120451.000000  9.458770e+05\n",
       "mean          0.518879       1.786155  100862.291944  3.404522e+06\n",
       "std           0.499644       1.127736   98368.470916  1.372942e+07\n",
       "min           0.000000       0.000000       0.000000 -1.000000e+00\n",
       "25%           0.000000       1.000000   19000.000000  3.000000e+04\n",
       "50%           1.000000       2.000000   75000.000000  1.500000e+05\n",
       "75%           1.000000       2.000000  160000.000000  6.000000e+05\n",
       "max           1.000000      16.000000  500000.000000  4.000000e+08"
      ]
     },
     "execution_count": 15,
     "metadata": {},
     "output_type": "execute_result"
    }
   ],
   "source": [
    "divar.describe()"
   ]
  },
  {
   "cell_type": "code",
   "execution_count": 15,
   "metadata": {},
   "outputs": [],
   "source": [
    "divar['mileage'].fillna(-1 , inplace = True)"
   ]
  },
  {
   "cell_type": "markdown",
   "metadata": {},
   "source": [
    "##### 'platform' column\n",
    "\n",
    "This column consists of a few distinct values. So we can convert the data type of it to category. Then convert each category to a number that can be used future for analysis."
   ]
  },
  {
   "cell_type": "code",
   "execution_count": 16,
   "metadata": {},
   "outputs": [
    {
     "data": {
      "text/plain": [
       "mobile    872693\n",
       "web        73184\n",
       "Name: platform, dtype: int64"
      ]
     },
     "execution_count": 16,
     "metadata": {},
     "output_type": "execute_result"
    }
   ],
   "source": [
    "divar['platform'].value_counts()"
   ]
  },
  {
   "cell_type": "code",
   "execution_count": 18,
   "metadata": {},
   "outputs": [
    {
     "data": {
      "text/plain": [
       "0    872693\n",
       "1     73184\n",
       "Name: platform, dtype: int64"
      ]
     },
     "execution_count": 18,
     "metadata": {},
     "output_type": "execute_result"
    }
   ],
   "source": [
    "divar['platform'] = divar['platform'].map({'mobile' : 0 , 'web' : 1})\n",
    "divar['platform'].value_counts()"
   ]
  },
  {
   "cell_type": "markdown",
   "metadata": {},
   "source": [
    "##### 'price' column\n",
    "\n",
    "This column doesn't have any null value. When we see closer to its values, we see that some rows are -1, which seems these are the same as null values. There isn't any problem seen in this column. Maybe it has outlier that we analysis them in the visualization phase."
   ]
  },
  {
   "cell_type": "markdown",
   "metadata": {},
   "source": [
    "##### \"type\" column "
   ]
  },
  {
   "cell_type": "code",
   "execution_count": 23,
   "metadata": {},
   "outputs": [
    {
     "data": {
      "text/plain": [
       "women    64116\n",
       "men      22980\n",
       "girls     6864\n",
       "boys      4569\n",
       "Name: type, dtype: int64"
      ]
     },
     "execution_count": 23,
     "metadata": {},
     "output_type": "execute_result"
    }
   ],
   "source": [
    "divar['type'].value_counts()"
   ]
  },
  {
   "cell_type": "code",
   "execution_count": 25,
   "metadata": {},
   "outputs": [
    {
     "data": {
      "text/plain": [
       "89.58331791554292"
      ]
     },
     "execution_count": 25,
     "metadata": {},
     "output_type": "execute_result"
    }
   ],
   "source": [
    "(divar['type'].isnull().sum() / divar.shape[0])*100"
   ]
  },
  {
   "cell_type": "markdown",
   "metadata": {},
   "source": [
    "A very large percent of the 'type' column is null. It seems that it's correlated to 'cat1'. Let's try it."
   ]
  },
  {
   "cell_type": "code",
   "execution_count": 38,
   "metadata": {},
   "outputs": [
    {
     "data": {
      "text/plain": [
       "(98529, 15)"
      ]
     },
     "execution_count": 38,
     "metadata": {},
     "output_type": "execute_result"
    }
   ],
   "source": [
    "divar[(divar['cat1'] == 'personal') & (divar['type'].notnull())].shape"
   ]
  },
  {
   "cell_type": "code",
   "execution_count": 37,
   "metadata": {},
   "outputs": [
    {
     "data": {
      "text/plain": [
       "98529"
      ]
     },
     "execution_count": 37,
     "metadata": {},
     "output_type": "execute_result"
    }
   ],
   "source": [
    "divar['type'].notnull().sum()"
   ]
  },
  {
   "cell_type": "code",
   "execution_count": 39,
   "metadata": {},
   "outputs": [
    {
     "data": {
      "text/plain": [
       "(0, 15)"
      ]
     },
     "execution_count": 39,
     "metadata": {},
     "output_type": "execute_result"
    }
   ],
   "source": [
    "divar[(divar['cat1'] != 'personal') & (divar['type'].notnull())].shape"
   ]
  },
  {
   "cell_type": "markdown",
   "metadata": {},
   "source": [
    "Our assumption is true. So we can fill null cells with a string like 'not personal'."
   ]
  },
  {
   "cell_type": "code",
   "execution_count": 40,
   "metadata": {},
   "outputs": [],
   "source": [
    "divar['type'].fillna('general' , inplace = True)"
   ]
  },
  {
   "cell_type": "markdown",
   "metadata": {},
   "source": [
    "##### 'year' column"
   ]
  },
  {
   "cell_type": "code",
   "execution_count": 45,
   "metadata": {},
   "outputs": [
    {
     "data": {
      "text/plain": [
       "87.26568042145014"
      ]
     },
     "execution_count": 45,
     "metadata": {},
     "output_type": "execute_result"
    }
   ],
   "source": [
    "(divar['year'].isnull().sum() / divar.shape[0])*100"
   ]
  },
  {
   "cell_type": "markdown",
   "metadata": {},
   "source": [
    "A very large percent of the 'year' column is null. It seems that it's correlated to 'mileage'. Let's try it."
   ]
  },
  {
   "cell_type": "code",
   "execution_count": 47,
   "metadata": {},
   "outputs": [
    {
     "data": {
      "text/plain": [
       "(825426, 15)"
      ]
     },
     "execution_count": 47,
     "metadata": {},
     "output_type": "execute_result"
    }
   ],
   "source": [
    "divar[(divar['mileage'] == -1) & (divar['year'].isnull())].shape"
   ]
  },
  {
   "cell_type": "code",
   "execution_count": 48,
   "metadata": {},
   "outputs": [
    {
     "data": {
      "text/plain": [
       "(0, 15)"
      ]
     },
     "execution_count": 48,
     "metadata": {},
     "output_type": "execute_result"
    }
   ],
   "source": [
    "divar[(divar['mileage'] != -1) & (divar['year'].isnull())].shape"
   ]
  },
  {
   "cell_type": "markdown",
   "metadata": {},
   "source": [
    "Our assumption is true. So we can fill null cells with a string like 'not car'."
   ]
  },
  {
   "cell_type": "code",
   "execution_count": 49,
   "metadata": {},
   "outputs": [],
   "source": [
    "divar['year'].fillna('Not Vehicle' , inplace = True)"
   ]
  },
  {
   "cell_type": "markdown",
   "metadata": {},
   "source": [
    "The cleaning data is finished. Now we save our final dataset for future analysis."
   ]
  },
  {
   "cell_type": "code",
   "execution_count": 55,
   "metadata": {},
   "outputs": [],
   "source": [
    "divar.to_csv('Cleaned Divar.csv')"
   ]
  },
  {
   "cell_type": "code",
   "execution_count": null,
   "metadata": {},
   "outputs": [],
   "source": []
  }
 ],
 "metadata": {
  "kernelspec": {
   "display_name": "Python 3",
   "language": "python",
   "name": "python3"
  },
  "language_info": {
   "codemirror_mode": {
    "name": "ipython",
    "version": 3
   },
   "file_extension": ".py",
   "mimetype": "text/x-python",
   "name": "python",
   "nbconvert_exporter": "python",
   "pygments_lexer": "ipython3",
   "version": "3.6.4"
  }
 },
 "nbformat": 4,
 "nbformat_minor": 2
}
